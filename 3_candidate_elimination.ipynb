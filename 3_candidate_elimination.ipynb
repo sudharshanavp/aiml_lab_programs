{
 "cells": [
  {
   "cell_type": "markdown",
   "metadata": {},
   "source": [
    "### Lab Progrom 3 Implement Candidate Elimination algorithm with an example dataset in .csv format"
   ]
  },
  {
   "cell_type": "code",
   "execution_count": 48,
   "metadata": {},
   "outputs": [],
   "source": [
    "import numpy as np\n",
    "import pandas as pd\n",
    "# For type hinting\n",
    "import numpy.typing as npt\n",
    "from typing import Union"
   ]
  },
  {
   "cell_type": "code",
   "execution_count": 10,
   "metadata": {},
   "outputs": [],
   "source": [
    "# Read the csv file as a pandas dataframe \n",
    "dataset = pd.read_csv('./datasets/candidate_elim_dataset.csv')\n",
    "# Concepts are all the attributes of the dataset leaving out the Target\n",
    "concept_attr = np.array(dataset.iloc[:,:-1])\n",
    "target_attr = np.array(dataset.iloc[:,-1])"
   ]
  },
  {
   "cell_type": "code",
   "execution_count": 47,
   "metadata": {},
   "outputs": [],
   "source": [
    "def candidate_elimination(concepts: npt.NDArray, target: npt.NDArray) -> Union[list, list]:\n",
    "    \"\"\"Performs candidate elimation on a given dataset\n",
    "\n",
    "    Args:\n",
    "        concepts (npt.NDArray): Training Examples without the target values\n",
    "        target (npt.NDArray): Target values of training example (yes or no values)\n",
    "\n",
    "    Returns:\n",
    "        Union[list, list]: Final Specific Hypothesis and Final General Hypothesis\n",
    "    \"\"\"\n",
    "        \n",
    "    # Initilization of Specific Hypothesis and General Hypothesis\n",
    "    specific_h = concepts[0].copy()\n",
    "    general_h = [['?' for x in range(len(specific_h))] for x in range(len(specific_h))]\n",
    "    \n",
    "    # Print the Hypothesis\n",
    "    print(\"Initial Specific Hypothesis:\\n\",specific_h)\n",
    "    print(\"Intiial General Hypothesis:\\n\",general_h,sep='\\n')\n",
    "    print(\"-\"*10)\n",
    "    \n",
    "    for i, hypothesis in enumerate(concepts):\n",
    "        if target[i] == 'yes':\n",
    "            for value in range(len(specific_h)):\n",
    "                if hypothesis[value] != specific_h[value]:\n",
    "                    specific_h[value] = '?'\n",
    "                    general_h[value][value] = '?'\n",
    "        \n",
    "        if target[i] == 'no':\n",
    "            for value in range(len(specific_h)):\n",
    "                if hypothesis[value] != specific_h[value]:\n",
    "                    general_h[value][value] = specific_h[value]\n",
    "                else:\n",
    "                    general_h[value][value] = '?'\n",
    "    \n",
    "    indices_to_remove = [i for i, val in enumerate(general_h) if val == ['?']*len(specific_h)]\n",
    "    \n",
    "    for indices in indices_to_remove:\n",
    "        general_h.remove(['?']*len(specific_h))\n",
    "    \n",
    "    return specific_h, general_h"
   ]
  },
  {
   "cell_type": "code",
   "execution_count": 45,
   "metadata": {},
   "outputs": [
    {
     "name": "stdout",
     "output_type": "stream",
     "text": [
      "Initial Specific Hypothesis:\n",
      " ['sunny' 'warm' 'high' 'strong' 'warm' 'same']\n",
      "Intiial General Hypothesis:\n",
      "/n[['?', '?', '?', '?', '?', '?'], ['?', '?', '?', '?', '?', '?'], ['?', '?', '?', '?', '?', '?'], ['?', '?', '?', '?', '?', '?'], ['?', '?', '?', '?', '?', '?'], ['?', '?', '?', '?', '?', '?']]\n",
      "----------\n",
      "Final Specific Hypothesis:\n",
      " ['sunny' 'warm' 'high' 'strong' '?' '?']\n",
      "Final General Hypothesis:\n",
      " [['sunny', '?', '?', '?', '?', '?'], ['?', 'warm', '?', '?', '?', '?']]\n"
     ]
    }
   ],
   "source": [
    "final_specific_hypothesis, final_general_hypothesis = candidate_elimination(concepts=concept_attr, target=target_attr)\n",
    "\n",
    "print(\"Final Specific Hypothesis:\\n\", final_specific_hypothesis)\n",
    "print(\"Final General Hypothesis:\\n\", final_general_hypothesis)"
   ]
  }
 ],
 "metadata": {
  "interpreter": {
   "hash": "916dbcbb3f70747c44a77c7bcd40155683ae19c65e1c03b4aa3499c5328201f1"
  },
  "kernelspec": {
   "display_name": "Python 3.8.10 64-bit",
   "language": "python",
   "name": "python3"
  },
  "language_info": {
   "codemirror_mode": {
    "name": "ipython",
    "version": 3
   },
   "file_extension": ".py",
   "mimetype": "text/x-python",
   "name": "python",
   "nbconvert_exporter": "python",
   "pygments_lexer": "ipython3",
   "version": "3.9.7"
  },
  "orig_nbformat": 4
 },
 "nbformat": 4,
 "nbformat_minor": 2
}
