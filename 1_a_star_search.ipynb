{
 "cells": [
  {
   "cell_type": "markdown",
   "metadata": {},
   "source": [
    "### Lab Program 1: Implement the A* search algorithm"
   ]
  },
  {
   "cell_type": "code",
   "execution_count": 10,
   "metadata": {},
   "outputs": [],
   "source": [
    "# For type hinting\n",
    "from typing import Optional"
   ]
  },
  {
   "cell_type": "code",
   "execution_count": 11,
   "metadata": {},
   "outputs": [],
   "source": [
    "def get_neighbours(node, graph):\n",
    "    if node in graph:\n",
    "        return graph[node]\n",
    "    return None"
   ]
  },
  {
   "cell_type": "code",
   "execution_count": 15,
   "metadata": {},
   "outputs": [],
   "source": [
    "def a_star_algorithm(source_node, dest_node, graph, heuristics: dict) -> Optional[list]:\n",
    "    open_set = set(source_node)\n",
    "    closed_set = set()\n",
    "    g_score = {} # stores distance from starting node\n",
    "    parents = {} # adjacency map of all nodes\n",
    "    \n",
    "    g_score[source_node] = 0 # distance of source_node from itself is 0\n",
    "    parents[source_node] = source_node # parent of source_node is itself\n",
    "    \n",
    "    while len(open_set) > 0:\n",
    "        cur_node = None\n",
    "        \n",
    "        # Select the node that minimizes f(n) = g_score(n) + heuristic(n) i.e select the node with least f(n) value\n",
    "        for node in open_set:\n",
    "            if cur_node == None or (g_score[node] + heuristics[node] < g_score[cur_node] + heuristics[cur_node]):\n",
    "                cur_node = node\n",
    "        \n",
    "        if cur_node == dest_node or graph[cur_node] == None:\n",
    "            pass\n",
    "        else:\n",
    "            for (node, weight) in get_neighbours(cur_node, graph):\n",
    "                # When node is not in both open and closed set, parent of node is set as cur_node and the g_score of node is updated\n",
    "                if node not in open_set and node not in closed_set:\n",
    "                    open_set.add(node)\n",
    "                    parents[node] = cur_node\n",
    "                    g_score[node] = g_score[cur_node] + weight\n",
    "                # Compare the distance of every node in neighbours with it's parent node\n",
    "                else:\n",
    "                    if g_score[node] > g_score[cur_node] + weight:\n",
    "                        g_score[node] = g_score[cur_node] + weight\n",
    "                        parents[node] = cur_node\n",
    "                        # If node is in closed set, remove and add it to open set\n",
    "                        if node in closed_set:\n",
    "                            closed_set.remove(node)\n",
    "                            open_set.add(node)\n",
    "\n",
    "        # No path found\n",
    "        if cur_node == None:\n",
    "            return None\n",
    "        \n",
    "        # If path found return list of nodes from Source to Destination node\n",
    "        if cur_node == dest_node:\n",
    "            path = []\n",
    "            \n",
    "            while parents[cur_node] != cur_node:\n",
    "                path.append(cur_node)\n",
    "                cur_node=parents[cur_node]\n",
    "            \n",
    "            path.append(source_node)\n",
    "            path.reverse()\n",
    "            return path\n",
    "        \n",
    "        open_set.remove(cur_node)\n",
    "        closed_set.add(cur_node)\n",
    "    \n",
    "    # If the function has come out of the while loop without returning any value then a path has not been found so return None\n",
    "    return None"
   ]
  },
  {
   "cell_type": "code",
   "execution_count": 13,
   "metadata": {},
   "outputs": [],
   "source": [
    "# Adjacency List of Graph\n",
    "graph_list = {\n",
    "    'A':[('B',9),('C',4),('D',7)],\n",
    "    'B':[('E',11)],\n",
    "    'C':[('E',17),('F' ,12)],\n",
    "    'E':[('Z',5)],\n",
    "    'D':[('F',14)],\n",
    "    'F':[('Z' ,9)],\n",
    "    'Z': None,\n",
    "}\n",
    "\n",
    "# Dictionary of Heuristic values\n",
    "\n",
    "heuristic_dict = {\n",
    "    'A':21,\n",
    "    'B':14,\n",
    "    'C':18,\n",
    "    'D':18,\n",
    "    'E':5,\n",
    "    'F':8,\n",
    "    'Z':0\n",
    "}"
   ]
  },
  {
   "cell_type": "code",
   "execution_count": 30,
   "metadata": {},
   "outputs": [
    {
     "name": "stdout",
     "output_type": "stream",
     "text": [
      "Path found: ['A', 'C', 'F', 'Z']\n"
     ]
    }
   ],
   "source": [
    "# Driver Code\n",
    "\n",
    "result = a_star_algorithm('A', 'Z', graph_list, heuristics=heuristic_dict)\n",
    "\n",
    "if result == None:\n",
    "    print(\"Path not found\")\n",
    "else:\n",
    "    print(\"Path found:\", result)"
   ]
  }
 ],
 "metadata": {
  "interpreter": {
   "hash": "916dbcbb3f70747c44a77c7bcd40155683ae19c65e1c03b4aa3499c5328201f1"
  },
  "kernelspec": {
   "display_name": "Python 3.8.10 64-bit",
   "language": "python",
   "name": "python3"
  },
  "language_info": {
   "codemirror_mode": {
    "name": "ipython",
    "version": 3
   },
   "file_extension": ".py",
   "mimetype": "text/x-python",
   "name": "python",
   "nbconvert_exporter": "python",
   "pygments_lexer": "ipython3",
   "version": "3.8.10"
  },
  "orig_nbformat": 4
 },
 "nbformat": 4,
 "nbformat_minor": 2
}
