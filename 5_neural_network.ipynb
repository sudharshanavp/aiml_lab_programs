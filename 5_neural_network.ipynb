{
 "cells": [
  {
   "cell_type": "markdown",
   "metadata": {},
   "source": [
    "### Lab Program 5: Build and Artificial Neural Network and implement the Back Propogartion algorithm"
   ]
  },
  {
   "cell_type": "code",
   "execution_count": 1,
   "metadata": {},
   "outputs": [],
   "source": [
    "import numpy as np "
   ]
  },
  {
   "cell_type": "code",
   "execution_count": 5,
   "metadata": {},
   "outputs": [],
   "source": [
    "def sigmoid(x: float) -> float:\n",
    "    return 1 / (1 + np.exp(-x))\n",
    "\n",
    "def derivative_sigmoid(x: float) -> float:\n",
    "    return x * (1 - x)\n",
    "\n",
    "def neural_net(input_neurons: list, output_neurons: list, epochs: int, learning_rate: float) -> list:\n",
    "    in_layer_count = len(input_neurons[0])\n",
    "    out_layer_count = len(output_neurons[0])\n",
    "    hidden_layer_count = 3\n",
    "    \n",
    "    # Initialize random weights and bias to all nodes\n",
    "    \n",
    "    # Weights of nodes \n",
    "    weights_hidden = np.random.uniform(size=(in_layer_count, hidden_layer_count))\n",
    "    weights_out = np.random.uniform(size=(hidden_layer_count, out_layer_count))\n",
    "    \n",
    "    # Bias of nodes\n",
    "    bias_hidden = np.random.uniform(size=(1, hidden_layer_count))\n",
    "    bias_out = np.random.uniform(size=(1, out_layer_count))\n",
    "    \n",
    "    for epoch in range(epochs):\n",
    "        h_input = np.dot(input_neurons, weights_hidden) + bias_hidden\n",
    "        input_activation = sigmoid(h_input)\n",
    "        \n",
    "        h_output = np.dot(input_activation, weights_out) + bias_out\n",
    "        output = sigmoid(h_output)\n",
    "        \n",
    "        error_output = output_neurons - output\n",
    "        output_gradient = derivative_sigmoid(output)\n",
    "        derivative_output = error_output * output_gradient\n",
    "        \n",
    "        error_hypothesis = derivative_output.dot(weights_out.T)\n",
    "        hidden_gradient = derivative_sigmoid(input_activation)\n",
    "        derivative_hidden = error_hypothesis * hidden_gradient\n",
    "        \n",
    "        weights_out += input_activation.T.dot(derivative_output * learning_rate)\n",
    "        weights_hidden += input_neurons.T.dot(derivative_hidden * learning_rate)\n",
    "    \n",
    "    return output"
   ]
  },
  {
   "cell_type": "code",
   "execution_count": 9,
   "metadata": {},
   "outputs": [
    {
     "name": "stdout",
     "output_type": "stream",
     "text": [
      "Inputs:\n",
      " [[0.66666667 1.        ]\n",
      " [0.33333333 0.55555556]\n",
      " [1.         0.66666667]]\n",
      "Outputs:\n",
      " [[0.92]\n",
      " [0.86]\n",
      " [0.89]]\n",
      "Predicted Output:\n",
      "[[0.89607537]\n",
      " [0.87825284]\n",
      " [0.89499905]]\n"
     ]
    }
   ],
   "source": [
    "# Inputs and Output Neurons\n",
    "x = np.array(([2,9],[1,5],[3,6]),dtype=float)\n",
    "y = np.array(([92],[86],[89]),dtype=float)\n",
    "\n",
    "# Scaling the Neuron values to values between 0 and 1\n",
    "x = x / np.amax(x, 0)\n",
    "y = y / 100\n",
    "\n",
    "# Setting parameters for the ANN\n",
    "epochs = 10000\n",
    "learning_rate = 0.1\n",
    "\n",
    "result = neural_net(x,y,epochs,learning_rate)\n",
    "print(\"Inputs:\\n\",str(x))\n",
    "print(\"Outputs:\\n\",str(y))\n",
    "print(\"Predicted Output:\")\n",
    "print(result)"
   ]
  }
 ],
 "metadata": {
  "interpreter": {
   "hash": "96c29df3c9882678c9224b48ef6832271283dc1a6410b0d31dfff6ccd69c0f45"
  },
  "kernelspec": {
   "display_name": "Python 3.9.7 ('data_science')",
   "language": "python",
   "name": "python3"
  },
  "language_info": {
   "codemirror_mode": {
    "name": "ipython",
    "version": 3
   },
   "file_extension": ".py",
   "mimetype": "text/x-python",
   "name": "python",
   "nbconvert_exporter": "python",
   "pygments_lexer": "ipython3",
   "version": "3.9.7"
  },
  "orig_nbformat": 4
 },
 "nbformat": 4,
 "nbformat_minor": 2
}
